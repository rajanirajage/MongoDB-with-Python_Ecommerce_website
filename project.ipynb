{
 "cells": [
  {
   "cell_type": "markdown",
   "metadata": {},
   "source": [
    "## MongoDB with Python\n",
    "# Here we work on projrct \"Ecommerce Platform Backend\" .inside this we will design the online store.we will work on Product catalog with categories and search functionality,user cart and order management,use aggregate queries for sale reports.\n"
   ]
  },
  {
   "cell_type": "code",
   "execution_count": 6,
   "metadata": {},
   "outputs": [
    {
     "name": "stdout",
     "output_type": "stream",
     "text": [
      "Requirement already satisfied: pymongo in c:\\users\\baps\\desktop\\mongodb_project\\venv\\lib\\site-packages (4.10.1)\n",
      "Requirement already satisfied: dnspython<3.0.0,>=1.16.0 in c:\\users\\baps\\desktop\\mongodb_project\\venv\\lib\\site-packages (from pymongo) (2.7.0)\n"
     ]
    },
    {
     "name": "stderr",
     "output_type": "stream",
     "text": [
      "\n",
      "[notice] A new release of pip is available: 24.2 -> 24.3.1\n",
      "[notice] To update, run: python.exe -m pip install --upgrade pip\n"
     ]
    }
   ],
   "source": [
    "! pip install pymongo"
   ]
  },
  {
   "cell_type": "code",
   "execution_count": 8,
   "metadata": {},
   "outputs": [],
   "source": [
    "# 1. Set up data connection\n",
    "import pymongo\n",
    "from pymongo import MongoClient\n",
    "\n",
    "# Connect to MongoDB\n",
    "client = MongoClient(\"mongodb://localhost:27017\")  \n",
    "db = client[\"ecommerce\"]  # Database name\n",
    "products_collection = db[\"products\"]\n",
    "users_collection = db[\"users\"]\n",
    "orders_collection = db[\"orders\"]\n",
    "\n"
   ]
  },
  {
   "cell_type": "code",
   "execution_count": 40,
   "metadata": {},
   "outputs": [
    {
     "name": "stdout",
     "output_type": "stream",
     "text": [
      "Sample data inserted.\n"
     ]
    }
   ],
   "source": [
    "# 2.Insert Sample data\n",
    "def insert_sample_data():\n",
    "    # Insert Products\n",
    "    products = [\n",
    "        {\"name\": \"Laptop\", \"price\": 1200, \"category\": \"Electronics\", \"stock\": 50},\n",
    "        {\"name\": \"Headphones\", \"price\": 200, \"category\": \"Accessories\", \"stock\": 150},\n",
    "        {\"name\": \"Shoes\", \"price\": 80, \"category\": \"Fashion\", \"stock\": 100},\n",
    "    ]\n",
    "    products_collection.insert_many(products)\n",
    "\n",
    "    # Insert User\n",
    "    user = {\n",
    "        \"name\": \"John Doe\",\n",
    "        \"email\": \"john@example.com\",\n",
    "        \"password\": \"securepassword\",\n",
    "        \"address\": \"123 Elm Street\",\n",
    "        \"orders\": [],\n",
    "    }\n",
    "    users_collection.insert_one(user)\n",
    "\n",
    "    print(\"Sample data inserted.\")\n",
    "\n",
    "\n",
    "insert_sample_data()"
   ]
  },
  {
   "cell_type": "code",
   "execution_count": null,
   "metadata": {},
   "outputs": [],
   "source": [
    "# Discription: sample data is got inserted inside the products_colection and users_collection.if you want to see the data go to Mangodb compass and you can see the data which is inserted inside the ecommerce database"
   ]
  },
  {
   "cell_type": "code",
   "execution_count": null,
   "metadata": {},
   "outputs": [
    {
     "name": "stdout",
     "output_type": "stream",
     "text": [
      "All Products:\n",
      "{'name': 'Laptop', 'price': 1200, 'category': 'Electronics', 'stock': 50}\n",
      "{'name': 'Headphones', 'price': 200, 'category': 'Accessories', 'stock': 150}\n",
      "{'name': 'Shoes', 'price': 80, 'category': 'Fashion', 'stock': 100}\n",
      "Products priced under $500:\n",
      "{'name': 'Headphones', 'price': 200, 'category': 'Accessories', 'stock': 150}\n",
      "{'name': 'Shoes', 'price': 80, 'category': 'Fashion', 'stock': 100}\n"
     ]
    }
   ],
   "source": [
    "# 3. Find all the Product which price is under $500\n",
    "def fetch_all_products():\n",
    "    products = list(products_collection.find({}, {\"_id\": 0}))\n",
    "    print(\"All Products:\")\n",
    "    for product in products:\n",
    "        print(product)\n",
    "\n",
    "def fetch_affordable_products(max_price):\n",
    "    products = list(products_collection.find({\"price\": {\"$lt\": max_price}}, {\"_id\": 0}))\n",
    "    print(f\"Products priced under ${max_price}:\")\n",
    "    for product in products:\n",
    "        print(product)\n",
    "\n",
    "fetch_all_products()\n",
    "fetch_affordable_products(500)\n"
   ]
  },
  {
   "cell_type": "code",
   "execution_count": null,
   "metadata": {},
   "outputs": [],
   "source": [
    "# Discription : this code give the output of all the products which is under $500.here I have use $lt operator to find the products which is under $500"
   ]
  },
  {
   "cell_type": "code",
   "execution_count": null,
   "metadata": {},
   "outputs": [
    {
     "name": "stdout",
     "output_type": "stream",
     "text": [
      "Stock updated for Laptop.\n"
     ]
    }
   ],
   "source": [
    "# 4.Update the stock for Laptop\n",
    "def update_product_stock(product_name, quantity):\n",
    "    result = products_collection.update_one(\n",
    "        {\"name\": product_name},\n",
    "        {\"$inc\": {\"stock\": -quantity}}\n",
    "    )\n",
    "    if result.modified_count > 0:\n",
    "        print(f\"Stock updated for {product_name}.\")\n",
    "    else:\n",
    "        print(f\"Failed to update stock for {product_name}.\")\n",
    "\n",
    "update_product_stock(\"Laptop\", 1)\n"
   ]
  },
  {
   "cell_type": "code",
   "execution_count": null,
   "metadata": {},
   "outputs": [],
   "source": [
    "# Discription: there I have updated product name is laptop and quantity 1 with the help of $inc operator"
   ]
  },
  {
   "cell_type": "code",
   "execution_count": 13,
   "metadata": {},
   "outputs": [
    {
     "name": "stdout",
     "output_type": "stream",
     "text": [
      "Products with price greater than $100:\n",
      "{'name': 'Laptop', 'price': 1200, 'category': 'Electronics', 'stock': 49}\n",
      "{'name': 'Headphones', 'price': 200, 'category': 'Accessories', 'stock': 150}\n"
     ]
    }
   ],
   "source": [
    "# 5.Find the product  with price grater than 100\n",
    "def fetch_expensive_products(min_price):\n",
    "    products = list(products_collection.find({\"price\": {\"$gt\": min_price}}, {\"_id\": 0}))\n",
    "    print(f\"Products with price greater than ${min_price}:\")\n",
    "    for product in products:\n",
    "        print(product)\n",
    "\n",
    "fetch_expensive_products(100)\n"
   ]
  },
  {
   "cell_type": "code",
   "execution_count": null,
   "metadata": {},
   "outputs": [],
   "source": [
    "# discription: the query calculate the product price grater than 100 with the help of $gt operator from product collection .there is two product got which is price is grater than 100 is laptop and headphones"
   ]
  },
  {
   "cell_type": "code",
   "execution_count": 14,
   "metadata": {},
   "outputs": [
    {
     "name": "stdout",
     "output_type": "stream",
     "text": [
      "Products in categories ['Electronics', 'Fashion']:\n",
      "{'name': 'Laptop', 'price': 1200, 'category': 'Electronics', 'stock': 49}\n",
      "{'name': 'Shoes', 'price': 80, 'category': 'Fashion', 'stock': 100}\n"
     ]
    }
   ],
   "source": [
    "# 6.Find out the product which is in Electronic or Fashion category\n",
    "def fetch_products_by_category(categories):\n",
    "    products = list(products_collection.find({\"category\": {\"$in\": categories}}, {\"_id\": 0}))\n",
    "    print(f\"Products in categories {categories}:\")\n",
    "    for product in products:\n",
    "        print(product)\n",
    "\n",
    "fetch_products_by_category([\"Electronics\", \"Fashion\"])\n"
   ]
  },
  {
   "cell_type": "code",
   "execution_count": null,
   "metadata": {},
   "outputs": [],
   "source": [
    "# discription: the query give out put of product which is electronic or fashion catergory.here i use the $in operator and get the two product name laptop and shoes"
   ]
  },
  {
   "cell_type": "code",
   "execution_count": null,
   "metadata": {},
   "outputs": [
    {
     "name": "stdout",
     "output_type": "stream",
     "text": [
      "Products with stock between 50 and 150:\n",
      "{'name': 'Headphones', 'price': 200, 'category': 'Accessories', 'stock': 150}\n",
      "{'name': 'Shoes', 'price': 80, 'category': 'Fashion', 'stock': 100}\n"
     ]
    }
   ],
   "source": [
    "# 7. Find the product stock which is between 50 and 150\n",
    "def fetch_products_by_stock_range(min_stock, max_stock):\n",
    "    products = list(products_collection.find({\"stock\": {\"$gte\": min_stock, \"$lte\": max_stock}}, {\"_id\": 0}))\n",
    "    print(f\"Products with stock between {min_stock} and {max_stock}:\")\n",
    "    for product in products:\n",
    "        print(product)\n",
    "\n",
    "fetch_products_by_stock_range(50, 150)\n"
   ]
  },
  {
   "cell_type": "code",
   "execution_count": null,
   "metadata": {},
   "outputs": [],
   "source": [
    "# discription: the query calculate the product stock which is between 50 to 150 .here i have use $gte to fin the product stock and got output of two product stocks headphones and shoes."
   ]
  },
  {
   "cell_type": "code",
   "execution_count": 16,
   "metadata": {},
   "outputs": [
    {
     "name": "stdout",
     "output_type": "stream",
     "text": [
      "Updated 1 products in category 'Fashion'.\n"
     ]
    }
   ],
   "source": [
    "# 8.Update the product in category Fashion\n",
    "def increase_stock_for_category(category, increment):\n",
    "    result = products_collection.update_many(\n",
    "        {\"category\": category},\n",
    "        {\"$inc\": {\"stock\": increment}}\n",
    "    )\n",
    "    print(f\"Updated {result.modified_count} products in category '{category}'.\")\n",
    "\n",
    "increase_stock_for_category(\"Fashion\", 10)\n"
   ]
  },
  {
   "cell_type": "code",
   "execution_count": null,
   "metadata": {},
   "outputs": [],
   "source": [
    "# discription:the query calculate the updation of one product in category with the help of $inc function."
   ]
  },
  {
   "cell_type": "code",
   "execution_count": 17,
   "metadata": {},
   "outputs": [
    {
     "name": "stdout",
     "output_type": "stream",
     "text": [
      "Added rating to 2 products under $500.\n"
     ]
    }
   ],
   "source": [
    "# 9. Add the rating to all the product under 500\n",
    "def add_rating_to_affordable_products(max_price, rating):\n",
    "    result = products_collection.update_many(\n",
    "        {\"price\": {\"$lt\": max_price}},\n",
    "        {\"$push\": {\"ratings\": rating}}\n",
    "    )\n",
    "    print(f\"Added rating to {result.modified_count} products under ${max_price}.\")\n",
    "\n",
    "add_rating_to_affordable_products(500, 4.5)\n"
   ]
  },
  {
   "cell_type": "code",
   "execution_count": null,
   "metadata": {},
   "outputs": [],
   "source": [
    "# discription: the query calculate with help of $lt to add the rating of the product which is under $500.here we have got two products which rating price is under $500."
   ]
  },
  {
   "cell_type": "code",
   "execution_count": 18,
   "metadata": {},
   "outputs": [
    {
     "name": "stdout",
     "output_type": "stream",
     "text": [
      "Deleted 0 products with stock below 10.\n"
     ]
    }
   ],
   "source": [
    "# 10. Remove the products with stock below 10\n",
    "def delete_low_stock_products(threshold):\n",
    "    result = products_collection.delete_many({\"stock\": {\"$lt\": threshold}})\n",
    "    print(f\"Deleted {result.deleted_count} products with stock below {threshold}.\")\n",
    "\n",
    "delete_low_stock_products(10)\n"
   ]
  },
  {
   "cell_type": "code",
   "execution_count": null,
   "metadata": {},
   "outputs": [],
   "source": [
    "# discription: indicate the 0 product have stock below 10"
   ]
  },
  {
   "cell_type": "code",
   "execution_count": 19,
   "metadata": {},
   "outputs": [
    {
     "name": "stdout",
     "output_type": "stream",
     "text": [
      "Inserted product with ID: 674457a74a9f34e6c3d74f20\n"
     ]
    }
   ],
   "source": [
    "# 11. insert the single product\n",
    "def insert_single_product(product):\n",
    "    result = products_collection.insert_one(product)\n",
    "    print(f\"Inserted product with ID: {result.inserted_id}\")\n",
    "\n",
    "# Example usage\n",
    "insert_single_product({\n",
    "    \"name\": \"Tablet\",\n",
    "    \"price\": 300,\n",
    "    \"category\": \"Electronics\",\n",
    "    \"stock\": 30,\n",
    "    \"ratings\": []\n",
    "})\n"
   ]
  },
  {
   "cell_type": "code",
   "execution_count": null,
   "metadata": {},
   "outputs": [],
   "source": [
    "# discription: the query insert the single product \"table\" with the help of \"insert_one\" function inside the product collection.you can see the output."
   ]
  },
  {
   "cell_type": "code",
   "execution_count": null,
   "metadata": {},
   "outputs": [
    {
     "name": "stdout",
     "output_type": "stream",
     "text": [
      "Inserted products with IDs: [ObjectId('674457cd4a9f34e6c3d74f21'), ObjectId('674457cd4a9f34e6c3d74f22'), ObjectId('674457cd4a9f34e6c3d74f23')]\n"
     ]
    }
   ],
   "source": [
    "# 12.Insert multiple products\n",
    "def insert_multiple_products(products):\n",
    "    result = products_collection.insert_many(products)\n",
    "    print(f\"Inserted products with IDs: {result.inserted_ids}\")\n",
    "\n",
    "# Example usage\n",
    "insert_multiple_products([\n",
    "    {\"name\": \"Smartphone\", \"price\": 800, \"category\": \"Electronics\", \"stock\": 100},\n",
    "    {\"name\": \"Watch\", \"price\": 150, \"category\": \"Accessories\", \"stock\": 200},\n",
    "    {\"name\": \"T-shirt\", \"price\": 25, \"category\": \"Fashion\", \"stock\": 300},\n",
    "])\n"
   ]
  },
  {
   "cell_type": "code",
   "execution_count": null,
   "metadata": {},
   "outputs": [],
   "source": [
    "# discription: the query inserted multiple product with the help of \"insert many\" function inside the product_collection"
   ]
  },
  {
   "cell_type": "code",
   "execution_count": 24,
   "metadata": {},
   "outputs": [],
   "source": [
    "from datetime import datetime"
   ]
  },
  {
   "cell_type": "code",
   "execution_count": null,
   "metadata": {},
   "outputs": [
    {
     "name": "stdout",
     "output_type": "stream",
     "text": [
      "Inserted user with ID: 674458384a9f34e6c3d74f26\n"
     ]
    }
   ],
   "source": [
    "# 13.Insert single user\n",
    "def insert_single_user(user):\n",
    "    result = users_collection.insert_one(user)\n",
    "    print(f\"Inserted user with ID: {result.inserted_id}\")\n",
    "\n",
    "# Example usage\n",
    "insert_single_user({\n",
    "    \"name\": \"Jane Doe\",\n",
    "    \"email\": \"jane@example.com\",\n",
    "    \"password\": \"securepassword123\",\n",
    "    \"address\": \"456 Maple Avenue\",\n",
    "    \"orders\": []\n",
    "})\n"
   ]
  },
  {
   "cell_type": "code",
   "execution_count": null,
   "metadata": {},
   "outputs": [],
   "source": [
    "# discription: the query  inserted the single user details with the help of \"insert_one\" function in users_colection."
   ]
  },
  {
   "cell_type": "code",
   "execution_count": null,
   "metadata": {},
   "outputs": [
    {
     "name": "stdout",
     "output_type": "stream",
     "text": [
      "Inserted order with ID: 674458774a9f34e6c3d74f29\n"
     ]
    },
    {
     "name": "stderr",
     "output_type": "stream",
     "text": [
      "C:\\Users\\BAPS\\AppData\\Local\\Temp\\ipykernel_10432\\483966656.py:15: DeprecationWarning: datetime.datetime.utcnow() is deprecated and scheduled for removal in a future version. Use timezone-aware objects to represent datetimes in UTC: datetime.datetime.now(datetime.UTC).\n",
      "  \"createdAt\": datetime.utcnow()\n"
     ]
    }
   ],
   "source": [
    "# 14.insert single order\n",
    "def insert_order(order):\n",
    "    result = orders_collection.insert_one(order)\n",
    "    print(f\"Inserted order with ID: {result.inserted_id}\")\n",
    "\n",
    "# Example usage\n",
    "user = users_collection.find_one({\"email\": \"john@example.com\"})\n",
    "product = products_collection.find_one({\"name\": \"Laptop\"})\n",
    "\n",
    "if user and product:\n",
    "    insert_order({\n",
    "        \"user\": user[\"_id\"],\n",
    "        \"items\": [{\"product\": product[\"_id\"], \"quantity\": 1}],\n",
    "        \"totalPrice\": product[\"price\"],\n",
    "        \"createdAt\": datetime.utcnow()\n",
    "    })\n",
    "else:\n",
    "    print(\"User or product not found!\")\n"
   ]
  },
  {
   "cell_type": "code",
   "execution_count": null,
   "metadata": {},
   "outputs": [],
   "source": [
    "# discription: the query calculate the inserting data inside the order_collection and use the datetime to add the time.here user orderd the laptop with quantity 1."
   ]
  },
  {
   "cell_type": "code",
   "execution_count": null,
   "metadata": {},
   "outputs": [
    {
     "name": "stdout",
     "output_type": "stream",
     "text": [
      "Average price of all products: $393.57\n"
     ]
    }
   ],
   "source": [
    "# 15.Calculate the average of all the product\n",
    "def calculate_average_price():\n",
    "    pipeline = [\n",
    "        {\"$group\": {\"_id\": None, \"averagePrice\": {\"$avg\": \"$price\"}}}\n",
    "    ]\n",
    "    result = list(products_collection.aggregate(pipeline))\n",
    "    if result:\n",
    "        print(f\"Average price of all products: ${result[0]['averagePrice']:.2f}\")\n",
    "    else:\n",
    "        print(\"No products found.\")\n",
    "\n",
    "calculate_average_price()\n"
   ]
  },
  {
   "cell_type": "code",
   "execution_count": null,
   "metadata": {},
   "outputs": [],
   "source": [
    "# discription:the code find out the average price of product $393.57 .it utilize the oprator $avg."
   ]
  },
  {
   "cell_type": "code",
   "execution_count": null,
   "metadata": {},
   "outputs": [
    {
     "name": "stdout",
     "output_type": "stream",
     "text": [
      "Total stock of all products: 939\n"
     ]
    }
   ],
   "source": [
    "# 16. Calculate the total stock of all the product\n",
    "def calculate_total_stock():\n",
    "    pipeline = [\n",
    "        {\"$group\": {\"_id\": None, \"totalStock\": {\"$sum\": \"$stock\"}}}\n",
    "    ]\n",
    "    result = list(products_collection.aggregate(pipeline))\n",
    "    if result:\n",
    "        print(f\"Total stock of all products: {result[0]['totalStock']}\")\n",
    "    else:\n",
    "        print(\"No products found.\")\n",
    "\n",
    "calculate_total_stock()\n"
   ]
  },
  {
   "cell_type": "code",
   "execution_count": null,
   "metadata": {},
   "outputs": [],
   "source": [
    "# discription: the code find out the total stock of all products is 939 with the help of $sum operator."
   ]
  },
  {
   "cell_type": "code",
   "execution_count": null,
   "metadata": {},
   "outputs": [
    {
     "name": "stdout",
     "output_type": "stream",
     "text": [
      "Total sales from all orders: $3600.00\n"
     ]
    }
   ],
   "source": [
    "# 17. Calculate the total sale\n",
    "def calculate_total_sales():\n",
    "    pipeline = [\n",
    "        {\"$group\": {\"_id\": None, \"totalSales\": {\"$sum\": \"$totalPrice\"}}}\n",
    "    ]\n",
    "    result = list(orders_collection.aggregate(pipeline))\n",
    "    if result:\n",
    "        print(f\"Total sales from all orders: ${result[0]['totalSales']:.2f}\")\n",
    "    else:\n",
    "        print(\"No orders found.\")\n",
    "\n",
    "calculate_total_sales()\n"
   ]
  },
  {
   "cell_type": "code",
   "execution_count": null,
   "metadata": {},
   "outputs": [],
   "source": [
    "# discription: the query calculate the total sale of product is $3600 with the help of $sum operator."
   ]
  },
  {
   "cell_type": "code",
   "execution_count": null,
   "metadata": {},
   "outputs": [
    {
     "name": "stdout",
     "output_type": "stream",
     "text": [
      "Average price of all products: $393.57\n",
      "Total stock of all products: 939\n"
     ]
    }
   ],
   "source": [
    "# 18. Calculate the average price and total sale together\n",
    "def calculate_price_and_stock_metrics():\n",
    "    pipeline = [\n",
    "        {\n",
    "            \"$group\": {\n",
    "                \"_id\": None,\n",
    "                \"averagePrice\": {\"$avg\": \"$price\"},\n",
    "                \"totalStock\": {\"$sum\": \"$stock\"}\n",
    "            }\n",
    "        }\n",
    "    ]\n",
    "    result = list(products_collection.aggregate(pipeline))\n",
    "    if result:\n",
    "        print(f\"Average price of all products: ${result[0]['averagePrice']:.2f}\")\n",
    "        print(f\"Total stock of all products: {result[0]['totalStock']}\")\n",
    "    else:\n",
    "        print(\"No products found.\")\n",
    "\n",
    "calculate_price_and_stock_metrics()\n"
   ]
  },
  {
   "cell_type": "code",
   "execution_count": null,
   "metadata": {},
   "outputs": [],
   "source": [
    "# discription: the code find out the average price of all product is $393.57 with use of $avg operator and total stock of all products is 939 with use of $sum operators."
   ]
  },
  {
   "cell_type": "code",
   "execution_count": null,
   "metadata": {},
   "outputs": [
    {
     "name": "stdout",
     "output_type": "stream",
     "text": [
      "Average ratings per product:\n",
      "- Headphones: 4.50\n",
      "- Shoes: 4.50\n"
     ]
    }
   ],
   "source": [
    "# 19. Calculate the average rating for the product\n",
    "def calculate_average_rating():\n",
    "    pipeline = [\n",
    "        {\"$unwind\": \"$ratings\"},\n",
    "        {\"$group\": {\"_id\": \"$name\", \"averageRating\": {\"$avg\": \"$ratings\"}}}\n",
    "    ]\n",
    "    result = list(products_collection.aggregate(pipeline))\n",
    "    if result:\n",
    "        print(\"Average ratings per product:\")\n",
    "        for product in result:\n",
    "            print(f\"- {product['_id']}: {product['averageRating']:.2f}\")\n",
    "    else:\n",
    "        print(\"No ratings found.\")\n",
    "\n",
    "calculate_average_rating()\n"
   ]
  },
  {
   "cell_type": "code",
   "execution_count": null,
   "metadata": {},
   "outputs": [],
   "source": [
    "# discription: the code find the average rating per product like headphones:4.50 and shoes:4.50 with use of \"$unwind\" and \"$avg\" operators."
   ]
  },
  {
   "cell_type": "code",
   "execution_count": null,
   "metadata": {},
   "outputs": [],
   "source": []
  }
 ],
 "metadata": {
  "kernelspec": {
   "display_name": "venv",
   "language": "python",
   "name": "python3"
  },
  "language_info": {
   "codemirror_mode": {
    "name": "ipython",
    "version": 3
   },
   "file_extension": ".py",
   "mimetype": "text/x-python",
   "name": "python",
   "nbconvert_exporter": "python",
   "pygments_lexer": "ipython3",
   "version": "3.13.0"
  }
 },
 "nbformat": 4,
 "nbformat_minor": 2
}
